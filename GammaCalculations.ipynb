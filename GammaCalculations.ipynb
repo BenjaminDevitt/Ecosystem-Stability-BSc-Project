{
 "cells": [
  {
   "cell_type": "code",
   "execution_count": 301,
   "id": "89a476a8-e723-42cf-b8d6-4d84253911d2",
   "metadata": {},
   "outputs": [],
   "source": [
    "import random\n",
    "import networkx as nx\n",
    "import matplotlib.pyplot as plt\n",
    "import numpy as np\n",
    "from scipy.stats import norm\n",
    "from numpy import linalg as LA\n",
    "\n",
    "def alphagen(mu,sigma, S):\n",
    "    Alpha = np.random.normal(mu/S, sigma/np.sqrt(S), size=(S, S))\n",
    "    np.fill_diagonal(Alpha, 0)\n",
    "    return Alpha\n",
    "\n",
    "def antagonistic_matrix(S2, c2, mu2, sigma2):\n",
    "    G2 = nx.erdos_renyi_graph(S2, c2/S2)\n",
    "    adj_matrixG2 = nx.to_numpy_array(G2)\n",
    "    weights = np.random.normal(mu2/c2 , sigma2/(np.sqrt(c2)),size=(S2,S2))\n",
    "    np.fill_diagonal(weights, 0)\n",
    "    Antagonistic_Matrix = adj_matrixG2*weights\n",
    "    for i in range(S2):\n",
    "        for j in range(i + 1, S2):  \n",
    "            if Antagonistic_Matrix[i, j]*Antagonistic_Matrix[j, i] > 0:\n",
    "                if np.random.rand() > 0.5:\n",
    "                    Antagonistic_Matrix[i, j] = -Antagonistic_Matrix[i, j]\n",
    "                else:\n",
    "                    Antagonistic_Matrix[j, i] = -Antagonistic_Matrix[j, i]\n",
    "    return Antagonistic_Matrix\n",
    "    \n",
    "def Mixture_matrix(S,mu,sigma,c):\n",
    "    G = nx.erdos_renyi_graph(S, c/S)\n",
    "    adj_matrix = nx.to_numpy_array(G)\n",
    "    alpha = np.random.normal(mu/c , sigma/(np.sqrt(c)),size=(S,S))\n",
    "    interaction_matirx = adj_matrix * alpha\n",
    "    np.fill_diagonal(interaction_matirx, 0)\n",
    "    return interaction_matirx\n",
    "\n",
    "def get_mean_var(A):\n",
    "    lst = np.ravel(A)\n",
    "    other = []\n",
    "    count = 0\n",
    "    S = len(A[0])\n",
    "    for i in lst:\n",
    "        if i == 0:\n",
    "            count = count + 1\n",
    "        else:\n",
    "            other.append(i)\n",
    "    ot = np.array(other)\n",
    "    mean = sum(ot)/(len(ot))\n",
    "    print(\"Mean \", mean)\n",
    "    var_sqrd = ot*ot\n",
    "    moment2 = sum(var_sqrd)/(len(ot))\n",
    "    var = moment2 - mean**2\n",
    "    print(\"Var:\", var)\n",
    "    print(\"Num Vars: \", len(ot))\n",
    "    return mean , var\n",
    "\n",
    "def gamma_antagonistic(Tmu,Tsigma,Tc):\n",
    "    Tm = Tmu/c\n",
    "    Tsig = (Tsigma)/(np.sqrt(c))\n",
    "    I = norm.cdf(-Tm/Tsig)\n",
    "    f = norm.pdf(-Tm/Tsig)\n",
    "    TCorr = -(Tm - 2*(Tm*I - Tsig*f))**2\n",
    "    one = (Tsig-2)*Tm*Tsig*f +(Tsig**2 + Tm**2)*I\n",
    "    TVar = 2*(Tsig**2 + Tm**2 - one)\n",
    "    print(TVar)\n",
    "    TGamma = TCorr/(TVar)\n",
    "    return TGamma\n",
    "    \n",
    "def cal_gamma(cAlpha):\n",
    "    cval = get_mean_var(cAlpha)\n",
    "    cmu = cval[0]\n",
    "    cVar = cval[1]\n",
    "    count = 0\n",
    "    clst = []\n",
    "    cS = len(cAlpha[0])\n",
    "    for i in range(cS):\n",
    "        for j in range(i + 1, cS): \n",
    "            if cAlpha[i,j] == 0:\n",
    "                count = count + 1\n",
    "            else:\n",
    "                centry = cAlpha[i,j]*cAlpha[j,i]\n",
    "                clst.append(centry)\n",
    "    ccorr = sum(clst)/(len(clst))\n",
    "    ca = ((ccorr - (cmu**2))/cVar)\n",
    "    return ca\n",
    "   "
   ]
  },
  {
   "cell_type": "code",
   "execution_count": 297,
   "id": "1bb5419c-6b51-4d2f-b0f9-c4b6a623ba7e",
   "metadata": {},
   "outputs": [],
   "source": [
    "S = 2000\n",
    "mu = 1\n",
    "sigma = 1\n",
    "c = 1000\n",
    "\n",
    "Alpha = antagonistic_matrix(S, c, mu, sigma)\n"
   ]
  },
  {
   "cell_type": "code",
   "execution_count": 290,
   "id": "36fd5029-b1cd-41e6-a10d-29a102ab4daf",
   "metadata": {},
   "outputs": [
    {
     "name": "stdout",
     "output_type": "stream",
     "text": [
      "0.0010758922874543912\n",
      "-0.5923051086552578\n"
     ]
    }
   ],
   "source": [
    "b = gamma_antagonistic(mu,sigma,c)\n",
    "print(b)"
   ]
  },
  {
   "cell_type": "code",
   "execution_count": 303,
   "id": "eba10f41-2097-4d6a-9419-68b23587ed8e",
   "metadata": {},
   "outputs": [
    {
     "name": "stdout",
     "output_type": "stream",
     "text": [
      "Mean  0.0002063239945898876\n",
      "Var: 0.0010015635268321433\n",
      "Num Vars:  1999850\n",
      "-0.6366765187288594\n"
     ]
    }
   ],
   "source": [
    "d = cal_gamma(Alpha)\n",
    "print(d)"
   ]
  },
  {
   "cell_type": "code",
   "execution_count": null,
   "id": "ede03052-600b-4354-8a26-a39e5c77df67",
   "metadata": {},
   "outputs": [],
   "source": []
  }
 ],
 "metadata": {
  "kernelspec": {
   "display_name": "Python [conda env:base] *",
   "language": "python",
   "name": "conda-base-py"
  },
  "language_info": {
   "codemirror_mode": {
    "name": "ipython",
    "version": 3
   },
   "file_extension": ".py",
   "mimetype": "text/x-python",
   "name": "python",
   "nbconvert_exporter": "python",
   "pygments_lexer": "ipython3",
   "version": "3.10.16"
  }
 },
 "nbformat": 4,
 "nbformat_minor": 5
}
